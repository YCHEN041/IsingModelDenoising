{
 "cells": [
  {
   "cell_type": "code",
   "execution_count": 64,
   "metadata": {
    "collapsed": false
   },
   "outputs": [
    {
     "name": "stdout",
     "output_type": "stream",
     "text": [
      "Image shape is:  (342, 481, 3)\n",
      "Vector shape is:  (342, 481)\n"
     ]
    }
   ],
   "source": [
    "import cv2\n",
    "import numpy as np\n",
    "import numpy.random as rd\n",
    "\n",
    "img = cv2.imread('2_noise.png')\n",
    "(height,width,channel)=img.shape\n",
    "print(\"Image shape is: \", img.shape)\n",
    "\n",
    "\"\"\"\n",
    "---------- Model ---------------\n",
    "Use Ising model in the Bishop's Pattern Recognition and Machine Learning book as the image model.\n",
    "Each pixel= +1 (black) or -1 (white). \n",
    "The original image have no preference of black/white, so parameter h is zero.\n",
    "\n",
    "---------- Energy function ---------------\n",
    "E(x,y) = - beta * Sum{xi*xj where xi,xj are neighbors} - eta * Sum{xi*yi}\n",
    "beta, eta are hyperparameters which can be inferred. \n",
    "The first term corresponds to correlation between neighboring pixels.\n",
    "The second term corresponds to the corelation between observed space y with latent space x.\n",
    "\n",
    "---------- Parameter Prior ---------------\n",
    "For the parameter prior, we assume that beta and eta are small positive constant with similar scale, \n",
    "which corresponds to a comparable neighborhood interaction and latent interaction.\n",
    "Assume they are all bigger than 1 with a rescaled exponentially decay tails.\n",
    "Rescale is properly set for hyperparameters to vary.\n",
    "\n",
    "prior p(beta-1) = c1 * exp( - 4*imgsize * (beta-1))\n",
    "prior p(eta-1) = c2 * exp( - 4*imgsize * (eta-1))\n",
    "\n",
    "---------- Full log posterior -------------\n",
    "p(x,beta,eta|y) = p(x|y,beta,eta) * p(beta) * p(eta)\n",
    "log[ p(x,beta,eta|y) ] is proportional to: \n",
    "( - imgsize * beta) + ( - imgsize * eta) + beta * neighborhoodsum(x) + eta * observedsum(x,y)\n",
    "\n",
    "------------ Update rule -------------\n",
    "for xi:\n",
    "    xi is either 1 or -1 w.p.\n",
    "        proportional to exp( - [beta*neighbor(xi) + eta*yi] * xi )\n",
    "    All xi update at the same time.\n",
    "    \n",
    "for beta:\n",
    "    proportional to exp(  [neighborhoodsum(x)-4*imgsize] * beta) \n",
    "    The coeficient looks like this because maximum value of neighborhoodsum is 4*imgsize.\n",
    "\n",
    "for eta:\n",
    "    proportional to exp(  [observedsum(x,y)-4*imgsize] * beta)\n",
    "    Similar argument.\n",
    "\"\"\"\n",
    "\n",
    "\n",
    "# Ising model, vector y is a observable 2D array with element either +1 for black or -1 for white.\n",
    "y = np.sum(img,axis=2)\n",
    "y = y/3/255\n",
    "y = y*2-1\n",
    "print(\"Vector shape is: \",y.shape)\n",
    "# x is the latent variable.\n",
    "x = np.zeros((y.shape))\n",
    "\n",
    "imgsize = np.product(y.shape)\n",
    "\n",
    "def neighborhoodsum(x):\n",
    "    # return a number which is the sum of all neighborhood pairs\n",
    "    x1 = np.roll(x,1,axis=0)\n",
    "    x2 = np.roll(x,-1,axis=0)\n",
    "    x3 = np.roll(x,1,axis=1)\n",
    "    x4 = np.roll(x,-1,axis=1)\n",
    "    ans = np.sum(np.multiply(x,x1)+np.multiply(x,x2)+np.multiply(x,x3)+np.multiply(x,x4))    \n",
    "    return ans\n",
    "\n",
    "def observedsum(x,y):\n",
    "    # return a number which is the sum of all xi*yi\n",
    "    return np.sum(np.multiply(x,y))\n",
    "\n",
    "def neighbor(x):\n",
    "    # return a matrix whose elementwise value is the sum of x's corresponding elementwise neighbors\n",
    "    (l1,l2)=x.shape\n",
    "    x1 = np.roll(x,1,axis=0)\n",
    "    x2 = np.roll(x,-1,axis=0)\n",
    "    x3 = np.roll(x,1,axis=1)\n",
    "    x4 = np.roll(x,-1,axis=1)\n",
    "    return x1+x2+x3+x4"
   ]
  },
  {
   "cell_type": "code",
   "execution_count": 65,
   "metadata": {
    "collapsed": false
   },
   "outputs": [
    {
     "name": "stdout",
     "output_type": "stream",
     "text": [
      "beta:  1.3765592673853704\n",
      "eta:  1.0000491417068642\n"
     ]
    }
   ],
   "source": [
    "steps = 100\n",
    "# Initialization\n",
    "rescale = 100000\n",
    "beta = 1 + rescale*rd.exponential(1/4/imgsize)\n",
    "eta = 1 + rescale*rd.exponential(1/4/imgsize)\n",
    "x = y\n",
    "for m in range(steps):\n",
    "    # update x\n",
    "    # c*P(x = 1)\n",
    "    probmat_positive = np.exp(beta*neighbor(x) + eta*y)\n",
    "    # c*P(x = -1)\n",
    "    probmat_negtive = 1/probmat_positive\n",
    "    # P(x = 1)\n",
    "    probmat = probmat_positive/(probmat_positive + probmat_negtive)\n",
    "    x = rd.binomial(1,p = probmat)*2 - 1\n",
    "    # update beta\n",
    "    beta = 1 + rescale*rd.exponential(scale = -1/(neighborhoodsum(x)-4*imgsize))\n",
    "    # update eta\n",
    "    eta = 1 + rescale*rd.exponential(scale = -1/(observedsum(x,y)-4*imgsize))\n",
    "print(\"beta: \",beta)\n",
    "print(\"eta: \",eta)"
   ]
  },
  {
   "cell_type": "code",
   "execution_count": null,
   "metadata": {
    "collapsed": false,
    "scrolled": false
   },
   "outputs": [],
   "source": []
  },
  {
   "cell_type": "code",
   "execution_count": 66,
   "metadata": {
    "collapsed": false
   },
   "outputs": [],
   "source": [
    "x2=(x+1)/2*255\n",
    "denoised_img = np.stack((x2,x2,x2),axis=2)\n",
    "cv2.imshow('a',denoised_img)\n",
    "cv2.waitKey(0)\n",
    "cv2.destroyAllWindows()"
   ]
  },
  {
   "cell_type": "code",
   "execution_count": 67,
   "metadata": {
    "collapsed": false
   },
   "outputs": [
    {
     "data": {
      "text/plain": [
       "True"
      ]
     },
     "execution_count": 67,
     "metadata": {},
     "output_type": "execute_result"
    }
   ],
   "source": [
    "cv2.imwrite(\"denoised_2.png\",denoised_img)"
   ]
  },
  {
   "cell_type": "code",
   "execution_count": null,
   "metadata": {
    "collapsed": true
   },
   "outputs": [],
   "source": []
  }
 ],
 "metadata": {
  "anaconda-cloud": {},
  "kernelspec": {
   "display_name": "Python [conda root]",
   "language": "python",
   "name": "conda-root-py"
  },
  "language_info": {
   "codemirror_mode": {
    "name": "ipython",
    "version": 3
   },
   "file_extension": ".py",
   "mimetype": "text/x-python",
   "name": "python",
   "nbconvert_exporter": "python",
   "pygments_lexer": "ipython3",
   "version": "3.5.2"
  }
 },
 "nbformat": 4,
 "nbformat_minor": 1
}
